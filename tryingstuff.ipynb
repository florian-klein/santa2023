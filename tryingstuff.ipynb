{
 "cells": [
  {
   "cell_type": "code",
   "execution_count": null,
   "metadata": {},
   "outputs": [],
   "source": []
  },
  {
   "cell_type": "code",
   "execution_count": 3,
   "metadata": {},
   "outputs": [],
   "source": [
    "import pandas as pd \n",
    "import numpy as np\n",
    "\n",
    "\n",
    "def get_cube_string(size: int):\n",
    "    faces = [\"A\", \"B\", \"C\", \"D\", \"E\", \"F\"]\n",
    "    return \";\".join([\";\".join(faces[i] * size ** 2) for i in range(6)])\n",
    "\n",
    "assert(get_cube_string(2) == \"A;A;A;A;B;B;B;B;C;C;C;C;D;D;D;D;E;E;E;E;F;F;F;F\")\n",
    "\n",
    "#          +--------+                               +--------+\n",
    "#          | 0    1 |                               | A    A |\n",
    "#          |   d1   |                               |   d1   |\n",
    "#          | 2    3 |                               | A    A |\n",
    "# +--------+--------+--------+--------+    +--------+--------+--------+--------+\n",
    "# | 16  17 | 4    5 | 8   9  | 12  13 |    | E    E | B    B | C    C | D    D |\n",
    "# |   r1   |   f0   |   r0   |   f1   |    |   r1   |   f0   |   r0   |   f1   |\n",
    "# | 18  19 | 6    7 | 10  11 | 14  15 |    | E    E | B    B | C    C | D    D |\n",
    "# +--------+--------+--------+--------+    +--------+--------+--------+--------+\n",
    "#          | 20  21 |                               | F    F |\n",
    "#          |   d0   |                               |   d0   |\n",
    "#          | 22  23 |                               | F    F |\n",
    "#          +--------+\n",
    "\n",
    "face_to_color = {\n",
    "    \"A\": \"white\",\n",
    "    \"B\": \"green\",\n",
    "\n",
    "}\n",
    "def visualize_cube(cube_string):\n",
    "    # plot 6 faces of the cube\n",
    "    pass\n"
   ]
  },
  {
   "cell_type": "code",
   "execution_count": null,
   "metadata": {},
   "outputs": [],
   "source": [
    "import pandas as pd\n",
    "import numpy as np\n",
    "\n",
    "def processing1(df):\n",
    "    df['Surname_len'] = df['Surname'].apply(len)\n",
    "    df['Geography'] = df['Geography'].map({'France': 0, 'Spain': 1, 'Germany': 2})\n",
    "    df['Gender'] = (df['Gender']=='Male').astype(np.int64)\n",
    "    return df\n",
    "\n",
    "def processing2(df):\n",
    "    cols = ['CustomerId', 'Surname', 'CreditScore', 'Geography', 'Gender', 'Age', 'Balance', 'NumOfProducts', 'HasCrCard', 'IsActiveMember','EstimatedSalary', 'Exited']\n",
    "    df = df.loc[df.groupby(cols)['Tenure'].idxmax()].drop_duplicates()\n",
    "    df = df[(df.NumOfProducts < 4) | (df.HasCrCard == 1)]\n",
    "    return df\n",
    "\n",
    "def processing3(df):\n",
    "    df['IsSenior'] = df['Age'].apply(lambda x: 1 if x >= 60 else 0)\n",
    "    df['IsActive_by_CreditCard'] = df['HasCrCard'] * df['IsActiveMember']\n",
    "    df['Products_Per_Tenure'] =  df['Tenure'] / df['NumOfProducts']\n",
    "    df['AgeCat'] = np.round(df.Age/20).astype('int').astype('category')\n",
    "    df['Sur_Geo_Gend_Sal'] = df['Surname']+df['Geography']+df['Gender']+np.round(df.EstimatedSalary).astype('str')\n",
    "    return df\n",
    "\n",
    "def processing4(df):\n",
    "    df[\"credit_score_quantile\"] = np.round(df[\"CreditScore\"] / 100).astype(\"int\")\n",
    "    df[\"balance_quantile\"] = np.round(df[\"Balance\"] / 10000).astype(\"int\")\n",
    "    df[\"balance_log\"] = np.log(df[\"Balance\"] + 1)\n",
    "    df[\"salary_log\"] = np.log(df[\"EstimatedSalary\"] + 1)\n",
    "    df[\"salary_balance_ration\"] = df[\"EstimatedSalary\"] / (df[\"Balance\"] + 1)\n",
    "    df[\"salary_balance_log_ratio\"] = df[\"salary_log\"] / df[\"balance_log\"]\n",
    "    df[\"age_quantile\"] = np.round(df[\"Age\"] / 10).astype(\"int\")\n",
    "\n"
   ]
  },
  {
   "cell_type": "code",
   "execution_count": null,
   "metadata": {},
   "outputs": [],
   "source": []
  }
 ],
 "metadata": {
  "kernelspec": {
   "display_name": "machine-learning",
   "language": "python",
   "name": "python3"
  },
  "language_info": {
   "codemirror_mode": {
    "name": "ipython",
    "version": 3
   },
   "file_extension": ".py",
   "mimetype": "text/x-python",
   "name": "python",
   "nbconvert_exporter": "python",
   "pygments_lexer": "ipython3",
   "version": "3.10.8"
  }
 },
 "nbformat": 4,
 "nbformat_minor": 2
}
