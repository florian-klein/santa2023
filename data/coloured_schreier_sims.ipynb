{
 "cells": [
  {
   "cell_type": "code",
   "execution_count": 1,
   "metadata": {},
   "outputs": [],
   "source": [
    "from sympy.combinatorics import Permutation, PermutationGroup"
   ]
  },
  {
   "cell_type": "code",
   "execution_count": 2,
   "metadata": {},
   "outputs": [
    {
     "name": "stdout",
     "output_type": "stream",
     "text": [
      "{Permutation(2), Permutation(1, 2)}\n"
     ]
    }
   ],
   "source": [
    "# Wir haben eine Gruppe bestehend aus den Generatoren und ihren Inversen\n",
    "# Daraus entsteht eine Permutationsgruppe\n",
    "# Wir labeln alle Elemente im String durch\n",
    "# Wir wollen die untergguppe H_{a,b,c,d} finden, die a,b,c,d stabilisiert, also alle elemente, die a,b,c,d isomorph auf a,b,c,d mapped aber evlt andere zuordnung\n",
    "# dafür brauchen wir ein Coset traversal (Cosets sind alle Mengen, die durch Anwendung von Gruppenelementen auf subgruppe entstehen)\n",
    "# dafür brauchen wir von jedem element einen repäsentanten\n",
    "\n",
    "s1 = Permutation(0,1)\n",
    "s2 = Permutation(0,1,2)\n",
    "\n",
    "permgroup = PermutationGroup(s1, s2)\n",
    "sub = PermutationGroup(Permutation(0,1,2), Permutation(0,2,1), Permutation())\n",
    "\n",
    "# elements in range i to j (j exclusive)\n",
    "def indices_interchangeable(allowed_indices, perm):\n",
    "    perm = perm.array_form\n",
    "    for index in allowed_indices:\n",
    "        if perm[index] not in allowed_indices:\n",
    "            return False\n",
    "    return True\n",
    "\n",
    "def get_coset_traversal(is_subgroup_member):\n",
    "    cosets_representatives = []\n",
    "    for elm in permgroup._elements:\n",
    "        found_indentical_coset = False\n",
    "        for repr in cosets_representatives:\n",
    "            if is_subgroup_member(repr ** -1 * elm):\n",
    "                found_indentical_coset = True\n",
    "                break\n",
    "        if not found_indentical_coset:\n",
    "            cosets_representatives.append(elm)\n",
    "    return cosets_representatives\n",
    "\n",
    "interchangeable_indices = set([0])\n",
    "cosets_reprs = get_coset_traversal(lambda x: indices_interchangeable(interchangeable_indices, x))\n",
    "# cosets_reprs = get_coset_traversal(lambda x: x in sub)\n",
    "\n",
    "def get_new_generators_from_coset_traversal_using_schreier(coset_traversal, generators, is_subgroup_member = lambda x: x in sub):\n",
    "    subgroup_generators = set([])\n",
    "    interchangeable_indices = set([0,1])\n",
    "    for t in coset_traversal:\n",
    "        for s in generators:\n",
    "            perm = t * s\n",
    "            perm_representative = None\n",
    "            # find coset representative for perm\n",
    "            for t2 in coset_traversal:\n",
    "                if is_subgroup_member(perm * t2**-1):\n",
    "                    perm_representative = t2\n",
    "                    break\n",
    "            if (perm * perm_representative ** -1) ** -1 in subgroup_generators:\n",
    "                continue\n",
    "            subgroup_generators.add(perm * perm_representative ** -1)\n",
    "    return subgroup_generators\n",
    "\n",
    "print(get_new_generators_from_coset_traversal_using_schreier(cosets_reprs, [s1, s2], lambda x: indices_interchangeable(interchangeable_indices, x)))\n",
    "# String z.B. aab (1,2,3) und (2,1,3)\n",
    "# Wir wollen also folgende Gruppe finden (0,1), (1,2)\n",
    "# wir erhalten alle cosets\n",
    "# solange nicht alle elemente gefunden, traverse group randomly\n",
    "# für jedes element, prüfe, ob wir bereits x^-1y in H sind, wenn ja continue, ansonsten, mach continue bis alle cosets gefunden "
   ]
  },
  {
   "cell_type": "code",
   "execution_count": null,
   "metadata": {},
   "outputs": [],
   "source": []
  },
  {
   "cell_type": "code",
   "execution_count": 3,
   "metadata": {},
   "outputs": [
    {
     "name": "stdout",
     "output_type": "stream",
     "text": [
      "[Permutation(2), Permutation(1, 2), Permutation(0, 1, 2)]\n"
     ]
    }
   ],
   "source": [
    "s1 = Permutation(0,1)\n",
    "s2 = Permutation(0,1,2)\n",
    "\n",
    "sub1 = Permutation(2)(0,1)\n",
    "sub2 = Permutation(2)(1,0)\n",
    "sub = PermutationGroup(sub1, sub2)\n",
    "\n",
    "permgroup = PermutationGroup(s1, s2)\n",
    "\n",
    "# coset traversal\n",
    "print(permgroup.coset_transversal(sub))"
   ]
  },
  {
   "cell_type": "code",
   "execution_count": 17,
   "metadata": {},
   "outputs": [],
   "source": [
    "b = Permutation(0,1)\n",
    "a = Permutation(0,1,2)\n",
    "target = Permutation(0,1,2)"
   ]
  },
  {
   "cell_type": "code",
   "execution_count": 9,
   "metadata": {},
   "outputs": [
    {
     "data": {
      "text/latex": [
       "$\\displaystyle \\left( 0\\; 1\\; 2\\right)$"
      ],
      "text/plain": [
       "Permutation(0, 1, 2)"
      ]
     },
     "execution_count": 9,
     "metadata": {},
     "output_type": "execute_result"
    }
   ],
   "source": [
    "(a**-1)*a*a"
   ]
  },
  {
   "cell_type": "code",
   "execution_count": 18,
   "metadata": {},
   "outputs": [
    {
     "data": {
      "text/latex": [
       "$\\displaystyle \\left( 2\\right)$"
      ],
      "text/plain": [
       "Permutation(2)"
      ]
     },
     "execution_count": 18,
     "metadata": {},
     "output_type": "execute_result"
    }
   ],
   "source": [
    "target * (a**-1)"
   ]
  },
  {
   "cell_type": "code",
   "execution_count": null,
   "metadata": {},
   "outputs": [],
   "source": []
  }
 ],
 "metadata": {
  "kernelspec": {
   "display_name": "machine-learning",
   "language": "python",
   "name": "python3"
  },
  "language_info": {
   "codemirror_mode": {
    "name": "ipython",
    "version": 3
   },
   "file_extension": ".py",
   "mimetype": "text/x-python",
   "name": "python",
   "nbconvert_exporter": "python",
   "pygments_lexer": "ipython3",
   "version": "3.10.8"
  }
 },
 "nbformat": 4,
 "nbformat_minor": 2
}
