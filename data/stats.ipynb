{
 "cells": [
  {
   "cell_type": "code",
   "execution_count": 1,
   "metadata": {},
   "outputs": [
    {
     "name": "stdout",
     "output_type": "stream",
     "text": [
      "wreath_7/7 \t [128, 15]\n",
      "wreath_6/6 \t [150, 20]\n",
      "wreath_12/12 \t [173, 10]\n",
      "cube_2/2/2 \t [315, 30]\n",
      "globe_2/6 \t [1288, 5]\n",
      "wreath_21/21 \t [1365, 5]\n",
      "globe_1/8 \t [2079, 10]\n",
      "globe_1/16 \t [2241, 5]\n",
      "globe_6/4 \t [2603, 5]\n",
      "cube_7/7/7 \t [2841, 5]\n",
      "cube_3/3/3 \t [2975, 120]\n",
      "wreath_33/33 \t [4033, 3]\n",
      "globe_3/4 \t [4494, 15]\n",
      "cube_8/8/8 \t [4910, 5]\n",
      "cube_9/9/9 \t [6812, 5]\n",
      "cube_4/4/4 \t [8426, 60]\n",
      "cube_6/6/6 \t [9512, 12]\n",
      "globe_6/8 \t [9796, 5]\n",
      "cube_5/5/5 \t [10356, 35]\n",
      "cube_10/10/10 \t [10387, 5]\n",
      "globe_6/10 \t [13771, 5]\n",
      "wreath_100/100 \t [14616, 1]\n",
      "globe_8/25 \t [37315, 2]\n",
      "globe_3/33 \t [50619, 4]\n",
      "globe_33/3 \t [58337, 4]\n",
      "cube_19/19/19 \t [60651, 4]\n",
      "cube_33/33/33 \t [331530, 3]\n",
      "[281, 282, 283]\n"
     ]
    }
   ],
   "source": [
    "import pandas as pd\n",
    "puzzles = pd.read_csv(\"./puzzles.csv\")\n",
    "sol = pd.read_csv(\"./submission_new.csv\")\n",
    "type_to_score = {}\n",
    "for i in range(len(puzzles)):\n",
    "    row = puzzles.iloc[i]\n",
    "    sol_elm = sol.iloc[i]\n",
    "    if row[\"puzzle_type\"] not in type_to_score:\n",
    "        type_to_score[row[\"puzzle_type\"]] = [0,0, []]\n",
    "    type_to_score[row[\"puzzle_type\"]][0] += sol_elm[\"moves\"].count(\".\") + 1\n",
    "    type_to_score[row[\"puzzle_type\"]][1] += 1\n",
    "    type_to_score[row[\"puzzle_type\"]][2].append(i)\n",
    "# print puzzle types, and for each puzzle type, print the number of puzzles of that type and the total number of moves\n",
    "# sort type to score\n",
    "for k, v in sorted(type_to_score.items(), key=lambda item: item[1]):\n",
    "    print(k, \"\\t\", v[:2])\n",
    "\n",
    "print(type_to_score[\"cube_33/33/33\"][2])\n",
    "# globe_2/6 \t [1508, 5]\n",
    "# globe_6/4 \t [3696, 5]\n",
    "# wreath_21/21 \t [3836, 5]\n",
    "# wreath_33/33 \t [12626, 3]\n",
    "# globe_3/4 \t [5384, 15]\n",
    "# cube_6/6/6 \t [9512, 12]\n",
    "\n"
   ]
  },
  {
   "cell_type": "code",
   "execution_count": null,
   "metadata": {},
   "outputs": [],
   "source": []
  }
 ],
 "metadata": {
  "kernelspec": {
   "display_name": "machine-learning",
   "language": "python",
   "name": "python3"
  },
  "language_info": {
   "codemirror_mode": {
    "name": "ipython",
    "version": 3
   },
   "file_extension": ".py",
   "mimetype": "text/x-python",
   "name": "python",
   "nbconvert_exporter": "python",
   "pygments_lexer": "ipython3",
   "version": "3.10.8"
  }
 },
 "nbformat": 4,
 "nbformat_minor": 2
}
